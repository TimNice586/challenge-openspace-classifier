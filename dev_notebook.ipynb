{
 "cells": [
  {
   "cell_type": "markdown",
   "id": "46ccd25f",
   "metadata": {},
   "source": [
    "# Open Space Organizer\n",
    "\n",
    "We want to create a program that assigns 24 people to 6 tables in an openspace. Before getting started, take inventory what do we need:\n",
    "\n",
    "- People\n",
    "- Seats & Tables\n",
    "- An OpenSpace\n",
    "\n",
    "It's a good practice to start simple while you grasp the logic of the program you are trying to build and test often. For us this can translate to,\n",
    "\n",
    "- People -> List of Names (later we can figure out how to use a file)\n",
    "- Seats & Tables -> Class\n",
    "- An OpenSpace -> Class\n",
    "\n",
    "Below I've created a list of your new colleagues for reference!"
   ]
  },
  {
   "cell_type": "code",
   "execution_count": 1,
   "id": "d2272fa0",
   "metadata": {},
   "outputs": [
    {
     "data": {
      "text/plain": [
       "24"
      ]
     },
     "execution_count": 1,
     "metadata": {},
     "output_type": "execute_result"
    }
   ],
   "source": [
    "new_colleagues = [\"Aleksei\",\"Amine\",\"Anna\",\"Astha\",\"Brigitta\",\n",
    "                 \"Bryan\",\"Ena\",\"Esra\",\"Faranges\",\"Frédéric\",\n",
    "                 \"Hamideh\",\"Héloïse\",\"Imran\",\"Intan K.\",\n",
    "                 \"Jens\",\"Kristin\",\"Michiel\",\"Nancy\",\"Pierrick\",\n",
    "                 \"Sandrine\",\"Tim\",\"Viktor\",\"Welederufeal\",\"Živile\"]\n",
    "len(new_colleagues)"
   ]
  },
  {
   "cell_type": "markdown",
   "id": "5331eef9",
   "metadata": {},
   "source": [
    "## Step 1: Build a Seat\n",
    "\n",
    "Create a class called `Seat` with two attributes:\n",
    "\n",
    "- `free` which is a boolean.\n",
    "- `occupant` which is a string.\n",
    "\n",
    "and 2 functions : \n",
    "\n",
    "- `set_occupant(name)` which allows the program to assign someone a seat if it's free\n",
    "- `remove_occupant()` which  remove someone from a seat and return the name of the person occupying the seat before\n"
   ]
  },
  {
   "cell_type": "code",
   "execution_count": 2,
   "id": "b2206876",
   "metadata": {},
   "outputs": [],
   "source": [
    "class Seat:\n",
    "    def __init__(self):\n",
    "        \"\"\" free is a boolean, initally the seat is free: seat is free (True) or taken (False)\n",
    "            occupant is a str: initially the occupant is no one: with the name of the person on the seat\"\"\"\n",
    "        self.free = True\n",
    "        self.occupant = None\n",
    "\n",
    "    def set_occupant(self, name):\n",
    "        \"\"\"assigns someone a seat if it's free\"\"\"\n",
    "        if self.free == True:\n",
    "            self.occupant = name\n",
    "            self.free = False\n",
    "            print(f\"Seat at the table is taken by {self.occupant}\")\n",
    "        else:\n",
    "            print(\"Seat at the table is already taken!\")\n",
    "    \n",
    "    def remove_occupant(self):\n",
    "        if self.free == True:\n",
    "            print(\"Seat at the table was already free!\")\n",
    "        else:   \n",
    "            print(f\"Seat at the table was taken by {self.occupant} but is now free!\")\n",
    "            self.old_occupant = self.occupant\n",
    "            self.__init__()\n",
    "            return self.old_occupant\n",
    "        \n",
    "        \n",
    "\n",
    "\n"
   ]
  },
  {
   "cell_type": "code",
   "execution_count": 3,
   "id": "97ec69ff",
   "metadata": {},
   "outputs": [
    {
     "name": "stdout",
     "output_type": "stream",
     "text": [
      "True\n",
      "None\n",
      "Seat at the table is taken by Tim\n",
      "False\n",
      "Tim\n",
      "Seat at the table is already taken!\n",
      "Seat at the table was taken by Tim but is now free!\n",
      "Seat at the table was already free!\n",
      "True\n",
      "None\n"
     ]
    }
   ],
   "source": [
    "# Test your code (assign yourself you a Seat)\n",
    "seat1 = Seat()\n",
    "print(seat1.free)\n",
    "print(seat1.occupant)\n",
    "seat1.set_occupant(\"Tim\")\n",
    "print(seat1.free)\n",
    "print(seat1.occupant)\n",
    "seat1.set_occupant(\"Tim\")\n",
    "seat1.remove_occupant()\n",
    "seat1.remove_occupant()\n",
    "print(seat1.free)\n",
    "print(seat1.occupant)"
   ]
  },
  {
   "cell_type": "markdown",
   "id": "12d6834f",
   "metadata": {},
   "source": [
    "What is the input and the output of your Seat class? Does it make sense?\n",
    "\n",
    "## Step 2: Build a Table\n",
    "\n",
    "Create a class `Table` with ? attributes:\n",
    "\n",
    "- `capacity` which is an integer\n",
    "- `seats` which is a list of `Seat` objects (size = `capacity`)\n",
    "\n",
    "and 3 functions : \n",
    "- `has_free_spot()` that returns a boolean (True if a spot is available)\n",
    "- `assign_seat(name)` that places someone at the table\n",
    "- `left_capacity()` that returns an integer\n",
    "\n",
    "Question: Which attributes make sense to give? For now let's say we want to build 6 tables with 4 seats.\n"
   ]
  },
  {
   "cell_type": "code",
   "execution_count": 5,
   "id": "d64b76c8",
   "metadata": {},
   "outputs": [],
   "source": [
    "class Table(Seat):\n",
    "    def __init__(self):\n",
    "        \"\"\" \"\"\"\n",
    "        super().__init__()\n",
    "        self.capacity = 4\n",
    "        self.seats = [Seat() for _ in range(self.capacity)] \n",
    "\n",
    "    def has_free_spot(self):\n",
    "        \"\"\" \"\"\"\n",
    "        if self.left_capacity() == 0:\n",
    "            print(\"The Table is full! Pick another one\")\n",
    "            return False\n",
    "        else:\n",
    "            print(\"The Table has a free spot!\")\n",
    "            return True\n",
    "        \n",
    "    def assign_seat(self, name):\n",
    "        \"\"\" \"\"\"\n",
    "        if self.has_free_spot():\n",
    "            for seat in self.seats:\n",
    "                if seat.free:\n",
    "                    seat.set_occupant(name)\n",
    "                    return(f\"{name} is assigned to a seat at the table\")\n",
    "        else:\n",
    "            return(\"Table is already full, Find another please!\")\n",
    "                \n",
    "    def left_capacity(self) -> int:\n",
    "        counter = 4\n",
    "        for seat in self.seats:\n",
    "            if seat.free == False:\n",
    "                counter -= 1\n",
    "        print(f\"there are {counter} places left at the table\")\n",
    "        return counter\n",
    "\n",
    "\n",
    "\n",
    "\n"
   ]
  },
  {
   "cell_type": "code",
   "execution_count": 6,
   "id": "108ce578",
   "metadata": {},
   "outputs": [
    {
     "name": "stdout",
     "output_type": "stream",
     "text": [
      "there are 4 places left at the table\n",
      "there are 4 places left at the table\n",
      "The Table has a free spot!\n",
      "there are 4 places left at the table\n",
      "The Table has a free spot!\n",
      "Seat at the table is taken by Tim\n",
      "there are 3 places left at the table\n",
      "there are 3 places left at the table\n",
      "The Table has a free spot!\n",
      "Seat at the table is taken by Brigi\n",
      "there are 2 places left at the table\n",
      "there are 2 places left at the table\n",
      "The Table has a free spot!\n",
      "Seat at the table is taken by Esra\n",
      "there are 1 places left at the table\n",
      "The Table has a free spot!\n",
      "Seat at the table is taken by Hamideh\n",
      "there are 0 places left at the table\n",
      "The Table is full! Pick another one\n",
      "there are 0 places left at the table\n"
     ]
    },
    {
     "data": {
      "text/plain": [
       "0"
      ]
     },
     "execution_count": 6,
     "metadata": {},
     "output_type": "execute_result"
    }
   ],
   "source": [
    "table1 = Table()\n",
    "table1.left_capacity()\n",
    "table1.has_free_spot()\n",
    "table1.assign_seat(\"Tim\")\n",
    "table1.left_capacity()\n",
    "table1.assign_seat(\"Brigi\")\n",
    "table1.left_capacity()\n",
    "table1.assign_seat(\"Esra\")\n",
    "table1.assign_seat(\"Hamideh\")\n",
    "table1.assign_seat(\"Welde\")\n",
    "table1.left_capacity()"
   ]
  },
  {
   "cell_type": "markdown",
   "id": "75f177c6",
   "metadata": {},
   "source": [
    "Does the output of you test make sense? Check that each method returns the correct value."
   ]
  },
  {
   "cell_type": "markdown",
   "id": "5b395b9e",
   "metadata": {},
   "source": [
    "## Step 3: Build an OpenSpace\n",
    "\n",
    "Create a class `Openspace` that contains these attributes:\n",
    "\n",
    "- `tables` which is a list of `Table`. _(you will need to import `Table` from `table.py`)_. \n",
    "- `number_of_tables` which is an integer.\n",
    "\n",
    "And some methods:\n",
    "\n",
    "- `organize(names)` that will:\n",
    "  - **randomly** assign people to `Seat` objects in the different `Table` objects.\n",
    "- `display()` display the different tables and there occupants in a nice and readable way\n",
    "- `store(filename)` store the repartition in an file"
   ]
  },
  {
   "cell_type": "code",
   "execution_count": null,
   "id": "1eed7151",
   "metadata": {},
   "outputs": [],
   "source": [
    "#from table import Table\n",
    "import random\n",
    "\n",
    "class Openspace(Table):\n",
    "    def __init__(self):\n",
    "        \"\"\" \"\"\"\n",
    "        super().__init__()\n",
    "        #to be able to test i create the list of tables here and number of tables a fixed 6\n",
    "        self.number_of_tables = 6\n",
    "        self.tables = [Table() for _ in range(self.number_of_tables)]\n",
    "        #self.seating = {f\"table {i+1}\": [] for i, table in enumerate(self.tables)}\n",
    "        \n",
    "    def organize(self, names: list) -> None:\n",
    "        \"\"\"randomly assigns people to Seat objects in the different Table objects\"\"\"\n",
    "        random.shuffle(names)\n",
    "        for j in range(self.capacity):\n",
    "            for i in range(self.number_of_tables):\n",
    "                name_index = i*(self.capacity)+j\n",
    "                self.tables[i].assign_seat(names[name_index])\n",
    "        print(\"all Tables are filled randomly!\")\n",
    "    \n",
    "    def display(self):\n",
    "        seating_dict = {}\n",
    "        for i, table in enumerate(self.tables):\n",
    "            table_number = f\"Table {i+1}\"\n",
    "            occupants_at_table = [seat.occupant for seat in table.seats]\n",
    "            seating_dict[table_number] = occupants_at_table\n",
    "\n",
    "        for table, occupants_at_table in seating_dict.items():\n",
    "            print(f\"{table} : {occupants_at_table}\")\n",
    "        \n",
    "    \n",
    "\n",
    "        \n",
    "\n",
    "    "
   ]
  },
  {
   "cell_type": "code",
   "execution_count": 9,
   "id": "6c20824f",
   "metadata": {},
   "outputs": [
    {
     "name": "stdout",
     "output_type": "stream",
     "text": [
      "there are 4 places left at the table\n",
      "The Table has a free spot!\n",
      "Seat at the table is taken by Imran\n",
      "there are 4 places left at the table\n",
      "The Table has a free spot!\n",
      "Seat at the table is taken by Sandrine\n",
      "there are 4 places left at the table\n",
      "The Table has a free spot!\n",
      "Seat at the table is taken by Michiel\n",
      "there are 4 places left at the table\n",
      "The Table has a free spot!\n",
      "Seat at the table is taken by Viktor\n",
      "there are 4 places left at the table\n",
      "The Table has a free spot!\n",
      "Seat at the table is taken by Nancy\n",
      "there are 4 places left at the table\n",
      "The Table has a free spot!\n",
      "Seat at the table is taken by Hamideh\n",
      "there are 3 places left at the table\n",
      "The Table has a free spot!\n",
      "Seat at the table is taken by Astha\n",
      "there are 3 places left at the table\n",
      "The Table has a free spot!\n",
      "Seat at the table is taken by Aleksei\n",
      "there are 3 places left at the table\n",
      "The Table has a free spot!\n",
      "Seat at the table is taken by Tim\n",
      "there are 3 places left at the table\n",
      "The Table has a free spot!\n",
      "Seat at the table is taken by Brigitta\n",
      "there are 3 places left at the table\n",
      "The Table has a free spot!\n",
      "Seat at the table is taken by Anna\n",
      "there are 3 places left at the table\n",
      "The Table has a free spot!\n",
      "Seat at the table is taken by Intan K.\n",
      "there are 2 places left at the table\n",
      "The Table has a free spot!\n",
      "Seat at the table is taken by Ena\n",
      "there are 2 places left at the table\n",
      "The Table has a free spot!\n",
      "Seat at the table is taken by Jens\n",
      "there are 2 places left at the table\n",
      "The Table has a free spot!\n",
      "Seat at the table is taken by Bryan\n",
      "there are 2 places left at the table\n",
      "The Table has a free spot!\n",
      "Seat at the table is taken by Kristin\n",
      "there are 2 places left at the table\n",
      "The Table has a free spot!\n",
      "Seat at the table is taken by Amine\n",
      "there are 2 places left at the table\n",
      "The Table has a free spot!\n",
      "Seat at the table is taken by Faranges\n",
      "there are 1 places left at the table\n",
      "The Table has a free spot!\n",
      "Seat at the table is taken by Živile\n",
      "there are 1 places left at the table\n",
      "The Table has a free spot!\n",
      "Seat at the table is taken by Welederufeal\n",
      "there are 1 places left at the table\n",
      "The Table has a free spot!\n",
      "Seat at the table is taken by Pierrick\n",
      "there are 1 places left at the table\n",
      "The Table has a free spot!\n",
      "Seat at the table is taken by Héloïse\n",
      "there are 1 places left at the table\n",
      "The Table has a free spot!\n",
      "Seat at the table is taken by Esra\n",
      "there are 1 places left at the table\n",
      "The Table has a free spot!\n",
      "Seat at the table is taken by Frédéric\n",
      "all Tables are filled randomly!\n",
      "Table 1 : ['Imran', 'Astha', 'Ena', 'Živile']\n",
      "Table 2 : ['Sandrine', 'Aleksei', 'Jens', 'Welederufeal']\n",
      "Table 3 : ['Michiel', 'Tim', 'Bryan', 'Pierrick']\n",
      "Table 4 : ['Viktor', 'Brigitta', 'Kristin', 'Héloïse']\n",
      "Table 5 : ['Nancy', 'Anna', 'Amine', 'Esra']\n",
      "Table 6 : ['Hamideh', 'Intan K.', 'Faranges', 'Frédéric']\n"
     ]
    }
   ],
   "source": [
    "Openspace1 = Openspace()\n",
    "Openspace1.organize(new_colleagues)\n",
    "Openspace1.display()"
   ]
  },
  {
   "cell_type": "markdown",
   "id": "0d3923a8",
   "metadata": {},
   "source": [
    "Hurray! You have the algorithm logic working. Next steps we transform this into some scripts! **Big note:** Once you move to the scrips you may need to adapt your logic, don't fret this is normal!"
   ]
  }
 ],
 "metadata": {
  "kernelspec": {
   "display_name": "Python 3",
   "language": "python",
   "name": "python3"
  },
  "language_info": {
   "codemirror_mode": {
    "name": "ipython",
    "version": 3
   },
   "file_extension": ".py",
   "mimetype": "text/x-python",
   "name": "python",
   "nbconvert_exporter": "python",
   "pygments_lexer": "ipython3",
   "version": "3.14.0"
  }
 },
 "nbformat": 4,
 "nbformat_minor": 5
}
